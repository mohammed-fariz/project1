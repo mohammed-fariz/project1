import numpy as np
import pandas as pd
import seaborn as sns 
import matplotlib.pyplot as plt

df=pd.read_csv("Hotel booking cancellation prediction/hotel_bookings.csv")
df.head()
print(df)