{
 "cells": [
  {
   "cell_type": "code",
   "execution_count": 1,
   "id": "c8890bea-08f0-4bb6-a640-dfea38155b02",
   "metadata": {},
   "outputs": [],
   "source": [
    "import numpy as np\n",
    "import pandas as pd\n",
    "import matplotlib.pyplot as plt"
   ]
  },
  {
   "cell_type": "code",
   "execution_count": 3,
   "id": "a4735e03-e363-4cb7-b1bf-99a1739f4963",
   "metadata": {},
   "outputs": [],
   "source": [
    "df=pd.read_csv('customer_data.csv')"
   ]
  },
  {
   "cell_type": "code",
   "execution_count": 5,
   "id": "326ae1ac-c512-41fb-9e79-695f1fd1c079",
   "metadata": {},
   "outputs": [
    {
     "data": {
      "text/html": [
       "<div>\n",
       "<style scoped>\n",
       "    .dataframe tbody tr th:only-of-type {\n",
       "        vertical-align: middle;\n",
       "    }\n",
       "\n",
       "    .dataframe tbody tr th {\n",
       "        vertical-align: top;\n",
       "    }\n",
       "\n",
       "    .dataframe thead th {\n",
       "        text-align: right;\n",
       "    }\n",
       "</style>\n",
       "<table border=\"1\" class=\"dataframe\">\n",
       "  <thead>\n",
       "    <tr style=\"text-align: right;\">\n",
       "      <th></th>\n",
       "      <th>id</th>\n",
       "      <th>age</th>\n",
       "      <th>gender</th>\n",
       "      <th>income</th>\n",
       "      <th>education</th>\n",
       "      <th>region</th>\n",
       "      <th>loyalty_status</th>\n",
       "      <th>purchase_frequency</th>\n",
       "      <th>purchase_amount</th>\n",
       "      <th>product_category</th>\n",
       "      <th>promotion_usage</th>\n",
       "      <th>satisfaction_score</th>\n",
       "    </tr>\n",
       "  </thead>\n",
       "  <tbody>\n",
       "    <tr>\n",
       "      <th>0</th>\n",
       "      <td>1</td>\n",
       "      <td>27</td>\n",
       "      <td>Male</td>\n",
       "      <td>40682</td>\n",
       "      <td>Bachelor</td>\n",
       "      <td>East</td>\n",
       "      <td>Gold</td>\n",
       "      <td>frequent</td>\n",
       "      <td>18249</td>\n",
       "      <td>Books</td>\n",
       "      <td>0</td>\n",
       "      <td>6</td>\n",
       "    </tr>\n",
       "    <tr>\n",
       "      <th>1</th>\n",
       "      <td>2</td>\n",
       "      <td>29</td>\n",
       "      <td>Male</td>\n",
       "      <td>15317</td>\n",
       "      <td>Masters</td>\n",
       "      <td>West</td>\n",
       "      <td>Regular</td>\n",
       "      <td>rare</td>\n",
       "      <td>4557</td>\n",
       "      <td>Clothing</td>\n",
       "      <td>1</td>\n",
       "      <td>6</td>\n",
       "    </tr>\n",
       "    <tr>\n",
       "      <th>2</th>\n",
       "      <td>3</td>\n",
       "      <td>37</td>\n",
       "      <td>Male</td>\n",
       "      <td>38849</td>\n",
       "      <td>Bachelor</td>\n",
       "      <td>West</td>\n",
       "      <td>Silver</td>\n",
       "      <td>rare</td>\n",
       "      <td>11822</td>\n",
       "      <td>Clothing</td>\n",
       "      <td>0</td>\n",
       "      <td>6</td>\n",
       "    </tr>\n",
       "    <tr>\n",
       "      <th>3</th>\n",
       "      <td>4</td>\n",
       "      <td>30</td>\n",
       "      <td>Male</td>\n",
       "      <td>11568</td>\n",
       "      <td>HighSchool</td>\n",
       "      <td>South</td>\n",
       "      <td>Regular</td>\n",
       "      <td>frequent</td>\n",
       "      <td>4098</td>\n",
       "      <td>Food</td>\n",
       "      <td>0</td>\n",
       "      <td>7</td>\n",
       "    </tr>\n",
       "    <tr>\n",
       "      <th>4</th>\n",
       "      <td>5</td>\n",
       "      <td>31</td>\n",
       "      <td>Female</td>\n",
       "      <td>46952</td>\n",
       "      <td>College</td>\n",
       "      <td>North</td>\n",
       "      <td>Regular</td>\n",
       "      <td>occasional</td>\n",
       "      <td>19685</td>\n",
       "      <td>Clothing</td>\n",
       "      <td>1</td>\n",
       "      <td>5</td>\n",
       "    </tr>\n",
       "  </tbody>\n",
       "</table>\n",
       "</div>"
      ],
      "text/plain": [
       "   id  age  gender  income   education region loyalty_status  \\\n",
       "0   1   27    Male   40682    Bachelor   East           Gold   \n",
       "1   2   29    Male   15317     Masters   West        Regular   \n",
       "2   3   37    Male   38849    Bachelor   West         Silver   \n",
       "3   4   30    Male   11568  HighSchool  South        Regular   \n",
       "4   5   31  Female   46952     College  North        Regular   \n",
       "\n",
       "  purchase_frequency  purchase_amount product_category  promotion_usage  \\\n",
       "0           frequent            18249            Books                0   \n",
       "1               rare             4557         Clothing                1   \n",
       "2               rare            11822         Clothing                0   \n",
       "3           frequent             4098             Food                0   \n",
       "4         occasional            19685         Clothing                1   \n",
       "\n",
       "   satisfaction_score  \n",
       "0                   6  \n",
       "1                   6  \n",
       "2                   6  \n",
       "3                   7  \n",
       "4                   5  "
      ]
     },
     "execution_count": 5,
     "metadata": {},
     "output_type": "execute_result"
    }
   ],
   "source": [
    "df.head()"
   ]
  },
  {
   "cell_type": "code",
   "execution_count": 7,
   "id": "d8fd9347-6a11-49cb-955f-1c1bbaf97305",
   "metadata": {},
   "outputs": [
    {
     "name": "stdout",
     "output_type": "stream",
     "text": [
      "<class 'pandas.core.frame.DataFrame'>\n",
      "RangeIndex: 100000 entries, 0 to 99999\n",
      "Data columns (total 12 columns):\n",
      " #   Column              Non-Null Count   Dtype \n",
      "---  ------              --------------   ----- \n",
      " 0   id                  100000 non-null  int64 \n",
      " 1   age                 100000 non-null  int64 \n",
      " 2   gender              100000 non-null  object\n",
      " 3   income              100000 non-null  int64 \n",
      " 4   education           100000 non-null  object\n",
      " 5   region              100000 non-null  object\n",
      " 6   loyalty_status      100000 non-null  object\n",
      " 7   purchase_frequency  100000 non-null  object\n",
      " 8   purchase_amount     100000 non-null  int64 \n",
      " 9   product_category    100000 non-null  object\n",
      " 10  promotion_usage     100000 non-null  int64 \n",
      " 11  satisfaction_score  100000 non-null  int64 \n",
      "dtypes: int64(6), object(6)\n",
      "memory usage: 9.2+ MB\n"
     ]
    }
   ],
   "source": [
    "df.info()"
   ]
  },
  {
   "cell_type": "code",
   "execution_count": 9,
   "id": "0bb9f1bc-e090-41ce-9cdc-35f8d9aefcda",
   "metadata": {},
   "outputs": [
    {
     "data": {
      "text/plain": [
       "id                    0\n",
       "age                   0\n",
       "gender                0\n",
       "income                0\n",
       "education             0\n",
       "region                0\n",
       "loyalty_status        0\n",
       "purchase_frequency    0\n",
       "purchase_amount       0\n",
       "product_category      0\n",
       "promotion_usage       0\n",
       "satisfaction_score    0\n",
       "dtype: int64"
      ]
     },
     "execution_count": 9,
     "metadata": {},
     "output_type": "execute_result"
    }
   ],
   "source": [
    "df.isnull().sum()"
   ]
  },
  {
   "cell_type": "code",
   "execution_count": 11,
   "id": "564a0f34-24ba-4460-a018-39155aa11e28",
   "metadata": {},
   "outputs": [
    {
     "data": {
      "text/plain": [
       "(100000, 12)"
      ]
     },
     "execution_count": 11,
     "metadata": {},
     "output_type": "execute_result"
    }
   ],
   "source": [
    "df.shape"
   ]
  },
  {
   "cell_type": "code",
   "execution_count": 7,
   "id": "b4b0be85-e860-47d4-a1f1-8f9abda906c1",
   "metadata": {},
   "outputs": [],
   "source": [
    "import seaborn as sns"
   ]
  },
  {
   "cell_type": "code",
   "execution_count": 8,
   "id": "69d7dd46-8b29-48ff-9bfa-910c7b75cb37",
   "metadata": {},
   "outputs": [
    {
     "ename": "NameError",
     "evalue": "name 'df' is not defined",
     "output_type": "error",
     "traceback": [
      "\u001b[1;31m---------------------------------------------------------------------------\u001b[0m",
      "\u001b[1;31mNameError\u001b[0m                                 Traceback (most recent call last)",
      "Cell \u001b[1;32mIn[8], line 1\u001b[0m\n\u001b[1;32m----> 1\u001b[0m sns\u001b[38;5;241m.\u001b[39mboxplot(data\u001b[38;5;241m=\u001b[39mdf[[\u001b[38;5;124m'\u001b[39m\u001b[38;5;124mid\u001b[39m\u001b[38;5;124m'\u001b[39m,\u001b[38;5;124m'\u001b[39m\u001b[38;5;124mage\u001b[39m\u001b[38;5;124m'\u001b[39m,\u001b[38;5;124m'\u001b[39m\u001b[38;5;124mincome\u001b[39m\u001b[38;5;124m'\u001b[39m,\u001b[38;5;124m'\u001b[39m\u001b[38;5;124mpurchase_amount\u001b[39m\u001b[38;5;124m'\u001b[39m,\u001b[38;5;124m'\u001b[39m\u001b[38;5;124mpromotion_usage\u001b[39m\u001b[38;5;124m'\u001b[39m,\u001b[38;5;124m'\u001b[39m\u001b[38;5;124msatisfaction_score\u001b[39m\u001b[38;5;124m'\u001b[39m]])\n",
      "\u001b[1;31mNameError\u001b[0m: name 'df' is not defined"
     ]
    }
   ],
   "source": [
    "sns.boxplot(data=df[['id','age','income','purchase_amount','promotion_usage','satisfaction_score']])"
   ]
  },
  {
   "cell_type": "code",
   "execution_count": null,
   "id": "feafeed2-959b-4a8a-96fc-e4d3870fe504",
   "metadata": {},
   "outputs": [],
   "source": []
  }
 ],
 "metadata": {
  "kernelspec": {
   "display_name": "Python [conda env:base] *",
   "language": "python",
   "name": "conda-base-py"
  },
  "language_info": {
   "codemirror_mode": {
    "name": "ipython",
    "version": 3
   },
   "file_extension": ".py",
   "mimetype": "text/x-python",
   "name": "python",
   "nbconvert_exporter": "python",
   "pygments_lexer": "ipython3",
   "version": "3.12.7"
  }
 },
 "nbformat": 4,
 "nbformat_minor": 5
}
