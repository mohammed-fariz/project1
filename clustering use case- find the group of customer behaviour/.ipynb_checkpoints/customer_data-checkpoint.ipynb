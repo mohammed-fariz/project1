{
 "cells": [
  {
   "cell_type": "code",
   "execution_count": 10,
   "id": "c8890bea-08f0-4bb6-a640-dfea38155b02",
   "metadata": {},
   "outputs": [],
   "source": [
    "import numpy as np\n",
    "import pandas as pd\n",
    "import matplotlib.pyplot as plt"
   ]
  },
  {
   "cell_type": "code",
   "execution_count": 17,
   "id": "a4735e03-e363-4cb7-b1bf-99a1739f4963",
   "metadata": {},
   "outputs": [],
   "source": [
    "df=pd.read_csv('project1/clustering use case- find the group of customer behaviour/customer_data csv file.csv')"
   ]
  },
  {
   "cell_type": "code",
   "execution_count": 19,
   "id": "326ae1ac-c512-41fb-9e79-695f1fd1c079",
   "metadata": {},
   "outputs": [
    {
     "data": {
      "text/html": [
       "<div>\n",
       "<style scoped>\n",
       "    .dataframe tbody tr th:only-of-type {\n",
       "        vertical-align: middle;\n",
       "    }\n",
       "\n",
       "    .dataframe tbody tr th {\n",
       "        vertical-align: top;\n",
       "    }\n",
       "\n",
       "    .dataframe thead th {\n",
       "        text-align: right;\n",
       "    }\n",
       "</style>\n",
       "<table border=\"1\" class=\"dataframe\">\n",
       "  <thead>\n",
       "    <tr style=\"text-align: right;\">\n",
       "      <th></th>\n",
       "      <th>id</th>\n",
       "      <th>age</th>\n",
       "      <th>gender</th>\n",
       "      <th>income</th>\n",
       "      <th>education</th>\n",
       "      <th>region</th>\n",
       "      <th>loyalty_status</th>\n",
       "      <th>purchase_frequency</th>\n",
       "      <th>purchase_amount</th>\n",
       "      <th>product_category</th>\n",
       "      <th>promotion_usage</th>\n",
       "      <th>satisfaction_score</th>\n",
       "    </tr>\n",
       "  </thead>\n",
       "  <tbody>\n",
       "    <tr>\n",
       "      <th>0</th>\n",
       "      <td>1</td>\n",
       "      <td>27</td>\n",
       "      <td>Male</td>\n",
       "      <td>40682</td>\n",
       "      <td>Bachelor</td>\n",
       "      <td>East</td>\n",
       "      <td>Gold</td>\n",
       "      <td>frequent</td>\n",
       "      <td>18249</td>\n",
       "      <td>Books</td>\n",
       "      <td>0</td>\n",
       "      <td>6</td>\n",
       "    </tr>\n",
       "    <tr>\n",
       "      <th>1</th>\n",
       "      <td>2</td>\n",
       "      <td>29</td>\n",
       "      <td>Male</td>\n",
       "      <td>15317</td>\n",
       "      <td>Masters</td>\n",
       "      <td>West</td>\n",
       "      <td>Regular</td>\n",
       "      <td>rare</td>\n",
       "      <td>4557</td>\n",
       "      <td>Clothing</td>\n",
       "      <td>1</td>\n",
       "      <td>6</td>\n",
       "    </tr>\n",
       "    <tr>\n",
       "      <th>2</th>\n",
       "      <td>3</td>\n",
       "      <td>37</td>\n",
       "      <td>Male</td>\n",
       "      <td>38849</td>\n",
       "      <td>Bachelor</td>\n",
       "      <td>West</td>\n",
       "      <td>Silver</td>\n",
       "      <td>rare</td>\n",
       "      <td>11822</td>\n",
       "      <td>Clothing</td>\n",
       "      <td>0</td>\n",
       "      <td>6</td>\n",
       "    </tr>\n",
       "    <tr>\n",
       "      <th>3</th>\n",
       "      <td>4</td>\n",
       "      <td>30</td>\n",
       "      <td>Male</td>\n",
       "      <td>11568</td>\n",
       "      <td>HighSchool</td>\n",
       "      <td>South</td>\n",
       "      <td>Regular</td>\n",
       "      <td>frequent</td>\n",
       "      <td>4098</td>\n",
       "      <td>Food</td>\n",
       "      <td>0</td>\n",
       "      <td>7</td>\n",
       "    </tr>\n",
       "    <tr>\n",
       "      <th>4</th>\n",
       "      <td>5</td>\n",
       "      <td>31</td>\n",
       "      <td>Female</td>\n",
       "      <td>46952</td>\n",
       "      <td>College</td>\n",
       "      <td>North</td>\n",
       "      <td>Regular</td>\n",
       "      <td>occasional</td>\n",
       "      <td>19685</td>\n",
       "      <td>Clothing</td>\n",
       "      <td>1</td>\n",
       "      <td>5</td>\n",
       "    </tr>\n",
       "  </tbody>\n",
       "</table>\n",
       "</div>"
      ],
      "text/plain": [
       "   id  age  gender  income   education region loyalty_status  \\\n",
       "0   1   27    Male   40682    Bachelor   East           Gold   \n",
       "1   2   29    Male   15317     Masters   West        Regular   \n",
       "2   3   37    Male   38849    Bachelor   West         Silver   \n",
       "3   4   30    Male   11568  HighSchool  South        Regular   \n",
       "4   5   31  Female   46952     College  North        Regular   \n",
       "\n",
       "  purchase_frequency  purchase_amount product_category  promotion_usage  \\\n",
       "0           frequent            18249            Books                0   \n",
       "1               rare             4557         Clothing                1   \n",
       "2               rare            11822         Clothing                0   \n",
       "3           frequent             4098             Food                0   \n",
       "4         occasional            19685         Clothing                1   \n",
       "\n",
       "   satisfaction_score  \n",
       "0                   6  \n",
       "1                   6  \n",
       "2                   6  \n",
       "3                   7  \n",
       "4                   5  "
      ]
     },
     "execution_count": 19,
     "metadata": {},
     "output_type": "execute_result"
    }
   ],
   "source": [
    "df.head()"
   ]
  },
  {
   "cell_type": "code",
   "execution_count": 21,
   "id": "d8fd9347-6a11-49cb-955f-1c1bbaf97305",
   "metadata": {},
   "outputs": [
    {
     "name": "stdout",
     "output_type": "stream",
     "text": [
      "<class 'pandas.core.frame.DataFrame'>\n",
      "RangeIndex: 100000 entries, 0 to 99999\n",
      "Data columns (total 12 columns):\n",
      " #   Column              Non-Null Count   Dtype \n",
      "---  ------              --------------   ----- \n",
      " 0   id                  100000 non-null  int64 \n",
      " 1   age                 100000 non-null  int64 \n",
      " 2   gender              100000 non-null  object\n",
      " 3   income              100000 non-null  int64 \n",
      " 4   education           100000 non-null  object\n",
      " 5   region              100000 non-null  object\n",
      " 6   loyalty_status      100000 non-null  object\n",
      " 7   purchase_frequency  100000 non-null  object\n",
      " 8   purchase_amount     100000 non-null  int64 \n",
      " 9   product_category    100000 non-null  object\n",
      " 10  promotion_usage     100000 non-null  int64 \n",
      " 11  satisfaction_score  100000 non-null  int64 \n",
      "dtypes: int64(6), object(6)\n",
      "memory usage: 9.2+ MB\n"
     ]
    }
   ],
   "source": [
    "df.info()"
   ]
  },
  {
   "cell_type": "code",
   "execution_count": 23,
   "id": "0bb9f1bc-e090-41ce-9cdc-35f8d9aefcda",
   "metadata": {},
   "outputs": [
    {
     "data": {
      "text/plain": [
       "id                    0\n",
       "age                   0\n",
       "gender                0\n",
       "income                0\n",
       "education             0\n",
       "region                0\n",
       "loyalty_status        0\n",
       "purchase_frequency    0\n",
       "purchase_amount       0\n",
       "product_category      0\n",
       "promotion_usage       0\n",
       "satisfaction_score    0\n",
       "dtype: int64"
      ]
     },
     "execution_count": 23,
     "metadata": {},
     "output_type": "execute_result"
    }
   ],
   "source": [
    "df.isnull().sum()"
   ]
  },
  {
   "cell_type": "code",
   "execution_count": 25,
   "id": "564a0f34-24ba-4460-a018-39155aa11e28",
   "metadata": {},
   "outputs": [
    {
     "data": {
      "text/plain": [
       "(100000, 12)"
      ]
     },
     "execution_count": 25,
     "metadata": {},
     "output_type": "execute_result"
    }
   ],
   "source": [
    "df.shape"
   ]
  },
  {
   "cell_type": "code",
   "execution_count": 27,
   "id": "b4b0be85-e860-47d4-a1f1-8f9abda906c1",
   "metadata": {},
   "outputs": [],
   "source": [
    "import seaborn as sns"
   ]
  },
  {
   "cell_type": "code",
   "execution_count": 35,
   "id": "69d7dd46-8b29-48ff-9bfa-910c7b75cb37",
   "metadata": {},
   "outputs": [
    {
     "data": {
      "text/plain": [
       "<Axes: >"
      ]
     },
     "execution_count": 35,
     "metadata": {},
     "output_type": "execute_result"
    },
    {
     "data": {
      "image/png": "[encoded data removed]",
      "text/plain": [
       "<Figure size 640x480 with 1 Axes>"
      ]
     },
     "metadata": {},
     "output_type": "display_data"
    }
   ],
   "source": [
    "sns.boxplot(data=df[['id','age','income','purchase_amount','promotion_usage','satisfaction_score']])\n"
   ]
  },
  {
   "cell_type": "code",
   "execution_count": 37,
   "id": "feafeed2-959b-4a8a-96fc-e4d3870fe504",
   "metadata": {},
   "outputs": [
    {
     "data": {
      "text/html": [
       "<div>\n",
       "<style scoped>\n",
       "    .dataframe tbody tr th:only-of-type {\n",
       "        vertical-align: middle;\n",
       "    }\n",
       "\n",
       "    .dataframe tbody tr th {\n",
       "        vertical-align: top;\n",
       "    }\n",
       "\n",
       "    .dataframe thead th {\n",
       "        text-align: right;\n",
       "    }\n",
       "</style>\n",
       "<table border=\"1\" class=\"dataframe\">\n",
       "  <thead>\n",
       "    <tr style=\"text-align: right;\">\n",
       "      <th></th>\n",
       "      <th>id</th>\n",
       "      <th>age</th>\n",
       "      <th>income</th>\n",
       "      <th>purchase_amount</th>\n",
       "      <th>promotion_usage</th>\n",
       "      <th>satisfaction_score</th>\n",
       "    </tr>\n",
       "  </thead>\n",
       "  <tbody>\n",
       "    <tr>\n",
       "      <th>count</th>\n",
       "      <td>100000.000000</td>\n",
       "      <td>100000.000000</td>\n",
       "      <td>100000.000000</td>\n",
       "      <td>100000.000000</td>\n",
       "      <td>100000.000000</td>\n",
       "      <td>100000.000000</td>\n",
       "    </tr>\n",
       "    <tr>\n",
       "      <th>mean</th>\n",
       "      <td>50000.500000</td>\n",
       "      <td>30.003260</td>\n",
       "      <td>27516.269880</td>\n",
       "      <td>9634.790840</td>\n",
       "      <td>0.300800</td>\n",
       "      <td>5.009650</td>\n",
       "    </tr>\n",
       "    <tr>\n",
       "      <th>std</th>\n",
       "      <td>28867.657797</td>\n",
       "      <td>4.480535</td>\n",
       "      <td>12996.782587</td>\n",
       "      <td>4799.339449</td>\n",
       "      <td>0.458608</td>\n",
       "      <td>1.038714</td>\n",
       "    </tr>\n",
       "    <tr>\n",
       "      <th>min</th>\n",
       "      <td>1.000000</td>\n",
       "      <td>12.000000</td>\n",
       "      <td>5000.000000</td>\n",
       "      <td>1118.000000</td>\n",
       "      <td>0.000000</td>\n",
       "      <td>0.000000</td>\n",
       "    </tr>\n",
       "    <tr>\n",
       "      <th>25%</th>\n",
       "      <td>25000.750000</td>\n",
       "      <td>27.000000</td>\n",
       "      <td>16271.750000</td>\n",
       "      <td>5583.000000</td>\n",
       "      <td>0.000000</td>\n",
       "      <td>4.000000</td>\n",
       "    </tr>\n",
       "    <tr>\n",
       "      <th>50%</th>\n",
       "      <td>50000.500000</td>\n",
       "      <td>30.000000</td>\n",
       "      <td>27584.500000</td>\n",
       "      <td>9452.000000</td>\n",
       "      <td>0.000000</td>\n",
       "      <td>5.000000</td>\n",
       "    </tr>\n",
       "    <tr>\n",
       "      <th>75%</th>\n",
       "      <td>75000.250000</td>\n",
       "      <td>33.000000</td>\n",
       "      <td>38747.250000</td>\n",
       "      <td>13350.000000</td>\n",
       "      <td>1.000000</td>\n",
       "      <td>6.000000</td>\n",
       "    </tr>\n",
       "    <tr>\n",
       "      <th>max</th>\n",
       "      <td>100000.000000</td>\n",
       "      <td>49.000000</td>\n",
       "      <td>50000.000000</td>\n",
       "      <td>26204.000000</td>\n",
       "      <td>1.000000</td>\n",
       "      <td>10.000000</td>\n",
       "    </tr>\n",
       "  </tbody>\n",
       "</table>\n",
       "</div>"
      ],
      "text/plain": [
       "                  id            age         income  purchase_amount  \\\n",
       "count  100000.000000  100000.000000  100000.000000    100000.000000   \n",
       "mean    50000.500000      30.003260   27516.269880      9634.790840   \n",
       "std     28867.657797       4.480535   12996.782587      4799.339449   \n",
       "min         1.000000      12.000000    5000.000000      1118.000000   \n",
       "25%     25000.750000      27.000000   16271.750000      5583.000000   \n",
       "50%     50000.500000      30.000000   27584.500000      9452.000000   \n",
       "75%     75000.250000      33.000000   38747.250000     13350.000000   \n",
       "max    100000.000000      49.000000   50000.000000     26204.000000   \n",
       "\n",
       "       promotion_usage  satisfaction_score  \n",
       "count    100000.000000       100000.000000  \n",
       "mean          0.300800            5.009650  \n",
       "std           0.458608            1.038714  \n",
       "min           0.000000            0.000000  \n",
       "25%           0.000000            4.000000  \n",
       "50%           0.000000            5.000000  \n",
       "75%           1.000000            6.000000  \n",
       "max           1.000000           10.000000  "
      ]
     },
     "execution_count": 37,
     "metadata": {},
     "output_type": "execute_result"
    }
   ],
   "source": [
    "df.describe()"
   ]
  },
  {
   "cell_type": "code",
   "execution_count": 69,
   "id": "adbca1f3-c61e-4c6c-ba50-c4a13ae18dbd",
   "metadata": {},
   "outputs": [],
   "source": [
    "from sklearn.preprocessing import LabelEncoder\n",
    "\n",
    "le = LabelEncoder()\n",
    "df['gender']=le.fit_transform(df['gender'])\n",
    "df['education'] = le.fit_transform(df['education'])\n",
    "df['loyalty_status'] = le.fit_transform(df['loyalty_status'])\n",
    "df['region']=le.fit_transform(df['region'])\n",
    "df['purchase_frequency']=le.fit_transform(df['purchase_frequency'])\n",
    "df['product_category']=le.fit_transform(df['product_category'])"
   ]
  },
  {
   "cell_type": "code",
   "execution_count": 71,
   "id": "8c0b3f55-29e5-47e8-8eb8-03b07e3ec79f",
   "metadata": {},
   "outputs": [
    {
     "data": {
      "text/html": [
       "<div>\n",
       "<style scoped>\n",
       "    .dataframe tbody tr th:only-of-type {\n",
       "        vertical-align: middle;\n",
       "    }\n",
       "\n",
       "    .dataframe tbody tr th {\n",
       "        vertical-align: top;\n",
       "    }\n",
       "\n",
       "    .dataframe thead th {\n",
       "        text-align: right;\n",
       "    }\n",
       "</style>\n",
       "<table border=\"1\" class=\"dataframe\">\n",
       "  <thead>\n",
       "    <tr style=\"text-align: right;\">\n",
       "      <th></th>\n",
       "      <th>id</th>\n",
       "      <th>age</th>\n",
       "      <th>gender</th>\n",
       "      <th>income</th>\n",
       "      <th>education</th>\n",
       "      <th>region</th>\n",
       "      <th>loyalty_status</th>\n",
       "      <th>purchase_frequency</th>\n",
       "      <th>purchase_amount</th>\n",
       "      <th>product_category</th>\n",
       "      <th>promotion_usage</th>\n",
       "      <th>satisfaction_score</th>\n",
       "    </tr>\n",
       "  </thead>\n",
       "  <tbody>\n",
       "    <tr>\n",
       "      <th>0</th>\n",
       "      <td>1</td>\n",
       "      <td>27</td>\n",
       "      <td>1</td>\n",
       "      <td>40682</td>\n",
       "      <td>0</td>\n",
       "      <td>0</td>\n",
       "      <td>0</td>\n",
       "      <td>0</td>\n",
       "      <td>18249</td>\n",
       "      <td>1</td>\n",
       "      <td>0</td>\n",
       "      <td>6</td>\n",
       "    </tr>\n",
       "    <tr>\n",
       "      <th>1</th>\n",
       "      <td>2</td>\n",
       "      <td>29</td>\n",
       "      <td>1</td>\n",
       "      <td>15317</td>\n",
       "      <td>3</td>\n",
       "      <td>3</td>\n",
       "      <td>1</td>\n",
       "      <td>2</td>\n",
       "      <td>4557</td>\n",
       "      <td>2</td>\n",
       "      <td>1</td>\n",
       "      <td>6</td>\n",
       "    </tr>\n",
       "    <tr>\n",
       "      <th>2</th>\n",
       "      <td>3</td>\n",
       "      <td>37</td>\n",
       "      <td>1</td>\n",
       "      <td>38849</td>\n",
       "      <td>0</td>\n",
       "      <td>3</td>\n",
       "      <td>2</td>\n",
       "      <td>2</td>\n",
       "      <td>11822</td>\n",
       "      <td>2</td>\n",
       "      <td>0</td>\n",
       "      <td>6</td>\n",
       "    </tr>\n",
       "    <tr>\n",
       "      <th>3</th>\n",
       "      <td>4</td>\n",
       "      <td>30</td>\n",
       "      <td>1</td>\n",
       "      <td>11568</td>\n",
       "      <td>2</td>\n",
       "      <td>2</td>\n",
       "      <td>1</td>\n",
       "      <td>0</td>\n",
       "      <td>4098</td>\n",
       "      <td>4</td>\n",
       "      <td>0</td>\n",
       "      <td>7</td>\n",
       "    </tr>\n",
       "    <tr>\n",
       "      <th>4</th>\n",
       "      <td>5</td>\n",
       "      <td>31</td>\n",
       "      <td>0</td>\n",
       "      <td>46952</td>\n",
       "      <td>1</td>\n",
       "      <td>1</td>\n",
       "      <td>1</td>\n",
       "      <td>1</td>\n",
       "      <td>19685</td>\n",
       "      <td>2</td>\n",
       "      <td>1</td>\n",
       "      <td>5</td>\n",
       "    </tr>\n",
       "  </tbody>\n",
       "</table>\n",
       "</div>"
      ],
      "text/plain": [
       "   id  age  gender  income  education  region  loyalty_status  \\\n",
       "0   1   27       1   40682          0       0               0   \n",
       "1   2   29       1   15317          3       3               1   \n",
       "2   3   37       1   38849          0       3               2   \n",
       "3   4   30       1   11568          2       2               1   \n",
       "4   5   31       0   46952          1       1               1   \n",
       "\n",
       "   purchase_frequency  purchase_amount  product_category  promotion_usage  \\\n",
       "0                   0            18249                 1                0   \n",
       "1                   2             4557                 2                1   \n",
       "2                   2            11822                 2                0   \n",
       "3                   0             4098                 4                0   \n",
       "4                   1            19685                 2                1   \n",
       "\n",
       "   satisfaction_score  \n",
       "0                   6  \n",
       "1                   6  \n",
       "2                   6  \n",
       "3                   7  \n",
       "4                   5  "
      ]
     },
     "execution_count": 71,
     "metadata": {},
     "output_type": "execute_result"
    }
   ],
   "source": [
    "df.head()"
   ]
  },
  {
   "cell_type": "code",
   "execution_count": 181,
   "id": "4f1eb896-cd5b-4e1d-b3f5-cbc045a98c2c",
   "metadata": {},
   "outputs": [],
   "source": [
    "features = ['id','age', 'income','gender','education','loyalty_status','region','product_category', 'purchase_frequency', 'purchase_amount','promotion_usage','satisfaction_score']\n",
    "X = df[features]"
   ]
  },
  {
   "cell_type": "code",
   "execution_count": 183,
   "id": "ba137ab3-075d-4c81-a3fe-8950a9bf601b",
   "metadata": {},
   "outputs": [],
   "source": [
    "from sklearn.preprocessing import StandardScaler\n",
    "scaler = StandardScaler()\n",
    "scaled_data = scaler.fit_transform(X)"
   ]
  },
  {
   "cell_type": "code",
   "execution_count": 185,
   "id": "88d50ddb-28e8-467a-8a55-cca7a1ff090f",
   "metadata": {},
   "outputs": [
    {
     "data": {
      "text/plain": [
       "id                    0\n",
       "age                   0\n",
       "gender                0\n",
       "income                0\n",
       "education             0\n",
       "region                0\n",
       "loyalty_status        0\n",
       "purchase_frequency    0\n",
       "purchase_amount       0\n",
       "product_category      0\n",
       "promotion_usage       0\n",
       "satisfaction_score    0\n",
       "cluster               0\n",
       "dtype: int64"
      ]
     },
     "execution_count": 185,
     "metadata": {},
     "output_type": "execute_result"
    }
   ],
   "source": [
    "df.isnull().sum()"
   ]
  },
  {
   "cell_type": "code",
   "execution_count": 187,
   "id": "3f9cb7fb-018c-4947-9787-ed58bc939cb9",
   "metadata": {},
   "outputs": [],
   "source": [
    "from sklearn.cluster import KMeans"
   ]
  },
  {
   "cell_type": "code",
   "execution_count": 232,
   "id": "e6454280-c1a0-4d7e-9669-50255a69f2c6",
   "metadata": {},
   "outputs": [],
   "source": [
    "model=KMeans(n_clusters=5,random_state=42)\n",
    "df['cluster']=model.fit(X)"
   ]
  },
  {
   "cell_type": "code",
   "execution_count": 234,
   "id": "9379969b-1e5a-495e-88f6-648555951b36",
   "metadata": {},
   "outputs": [],
   "source": [
    "df['cluster'] = model.labels_ "
   ]
  },
  {
   "cell_type": "code",
   "execution_count": 236,
   "id": "5b251bf2-597d-43b2-b586-972f4d4446f9",
   "metadata": {},
   "outputs": [
    {
     "data": {
      "text/plain": [
       "cluster\n",
       "2    26954\n",
       "3    19057\n",
       "1    19056\n",
       "0    17552\n",
       "4    17381\n",
       "Name: count, dtype: int64"
      ]
     },
     "execution_count": 236,
     "metadata": {},
     "output_type": "execute_result"
    }
   ],
   "source": [
    "df['cluster'].value_counts()"
   ]
  },
  {
   "cell_type": "code",
   "execution_count": null,
   "id": "6561dbe3-ba18-4aad-a6b6-8912189653d7",
   "metadata": {},
   "outputs": [],
   "source": []
  },
  {
   "cell_type": "code",
   "execution_count": 239,
   "id": "482e060b-a2b8-468f-8477-d9460aee668e",
   "metadata": {},
   "outputs": [
    {
     "data": {
      "image/png": "[encoded data removed]",
      "text/plain": [
       "<Figure size 640x480 with 1 Axes>"
      ]
     },
     "metadata": {},
     "output_type": "display_data"
    }
   ],
   "source": [
    "plt.scatter(df['age'],df['income'])\n",
    "\n",
    "plt.show()"
   ]
  },
  {
   "cell_type": "code",
   "execution_count": 226,
   "id": "0d419012-8cdd-461d-8273-71decc3f1954",
   "metadata": {},
   "outputs": [],
   "source": [
    "WCSS=[]\n",
    "for i in range (1,21):\n",
    "    km=KMeans(n_clusters=i)\n",
    "    km.fit_predict(df)\n",
    "    WCSS.append(km.inertia_)"
   ]
  },
  {
   "cell_type": "code",
   "execution_count": 228,
   "id": "821baad1-2bb9-4d76-b6fe-b80a9f2cda0e",
   "metadata": {},
   "outputs": [
    {
     "data": {
      "text/plain": [
       "[102528146587034.4,\n",
       " 40028050910993.78,\n",
       " 28454546114965.625,\n",
       " 22910122081776.38,\n",
       " 18319123069986.85,\n",
       " 14193638035323.957,\n",
       " 11916615144801.717,\n",
       " 10151611541003.676,\n",
       " 9143356557975.844,\n",
       " 8773365888034.291,\n",
       " 7704064245920.604,\n",
       " 7101182136491.902,\n",
       " 6625408624534.934,\n",
       " 6022443037280.783,\n",
       " 5596046069439.226,\n",
       " 5203999573598.895,\n",
       " 4911428397041.404,\n",
       " 4605485125151.764,\n",
       " 4370467936419.612,\n",
       " 4237773409130.036]"
      ]
     },
     "execution_count": 228,
     "metadata": {},
     "output_type": "execute_result"
    }
   ],
   "source": [
    "WCSS"
   ]
  },
  {
   "cell_type": "code",
   "execution_count": 230,
   "id": "441b4a00-8ec9-4f78-a744-0a49444b79c4",
   "metadata": {},
   "outputs": [
    {
     "data": {
      "text/plain": [
       "[<matplotlib.lines.Line2D at 0x1f608d4c710>]"
      ]
     },
     "execution_count": 230,
     "metadata": {},
     "output_type": "execute_result"
    },
    {
     "data": {
      "image/png": "[encoded data removed]",
      "text/plain": [
       "<Figure size 640x480 with 1 Axes>"
      ]
     },
     "metadata": {},
     "output_type": "display_data"
    }
   ],
   "source": [
    "plt.plot(range(1,21),WCSS)"
   ]
  },
  {
   "cell_type": "code",
   "execution_count": 241,
   "id": "d8a0e8a0-e335-43ba-8959-c7673104a89f",
   "metadata": {},
   "outputs": [],
   "source": [
    "X=df.iloc[:,:].values"
   ]
  },
  {
   "cell_type": "code",
   "execution_count": 245,
   "id": "37369c2f-be83-4294-81ca-9522413fac3b",
   "metadata": {},
   "outputs": [],
   "source": [
    "model=KMeans(n_clusters=5)\n",
    "y_means=model.fit_predict(X)"
   ]
  },
  {
   "cell_type": "code",
   "execution_count": 247,
   "id": "4fb02d91-bc8d-4d2f-b762-c72a755be742",
   "metadata": {},
   "outputs": [
    {
     "data": {
      "text/plain": [
       "array([2, 4, 2, ..., 1, 1, 1])"
      ]
     },
     "execution_count": 247,
     "metadata": {},
     "output_type": "execute_result"
    }
   ],
   "source": [
    "y_means"
   ]
  },
  {
   "cell_type": "code",
   "execution_count": 259,
   "id": "556f6202-3d08-49c2-bcfa-82d7c833d30e",
   "metadata": {},
   "outputs": [
    {
     "data": {
      "text/plain": [
       "array([29, 30, 38, ..., 31, 36, 24], dtype=int64)"
      ]
     },
     "execution_count": 259,
     "metadata": {},
     "output_type": "execute_result"
    }
   ],
   "source": [
    "X[y_means==4,1]"
   ]
  },
  {
   "cell_type": "code",
   "execution_count": 267,
   "id": "07e2eb29-cdfa-40c5-b85d-34a8ce6308c9",
   "metadata": {},
   "outputs": [
    {
     "data": {
      "text/plain": [
       "<matplotlib.collections.PathCollection at 0x1f60949eed0>"
      ]
     },
     "execution_count": 267,
     "metadata": {},
     "output_type": "execute_result"
    },
    {
     "data": {
      "image/png": "[encoded data removed]",
      "text/plain": [
       "<Figure size 640x480 with 1 Axes>"
      ]
     },
     "metadata": {},
     "output_type": "display_data"
    }
   ],
   "source": [
    "plt.scatter(X[y_means==0,0],X[y_means==0,1],color='blue')\n",
    "plt.scatter(X[y_means==1,0],X[y_means==1,1],color='red')\n",
    "plt.scatter(X[y_means==2,0],X[y_means==2,1],color='yellow')\n",
    "plt.scatter(X[y_means==3,0],X[y_means==3,1],color='green')\n",
    "plt.scatter(X[y_means==4,0],X[y_means==4,1],color='black')"
   ]
  },
  {
   "cell_type": "code",
   "execution_count": null,
   "id": "c361cca2-b956-41e6-94cd-d69652229946",
   "metadata": {},
   "outputs": [],
   "source": []
  }
 ],
 "metadata": {
  "kernelspec": {
   "display_name": "Python [conda env:base] *",
   "language": "python",
   "name": "conda-base-py"
  },
  "language_info": {
   "codemirror_mode": {
    "name": "ipython",
    "version": 3
   },
   "file_extension": ".py",
   "mimetype": "text/x-python",
   "name": "python",
   "nbconvert_exporter": "python",
   "pygments_lexer": "ipython3",
   "version": "3.12.7"
  }
 },
 "nbformat": 4,
 "nbformat_minor": 5
}
